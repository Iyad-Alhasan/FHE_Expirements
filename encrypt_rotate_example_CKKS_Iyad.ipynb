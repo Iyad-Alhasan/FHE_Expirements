{
  "nbformat": 4,
  "nbformat_minor": 0,
  "metadata": {
    "kernelspec": {
      "display_name": "Python 3",
      "language": "python",
      "name": "python3"
    },
    "language_info": {
      "codemirror_mode": {
        "name": "ipython",
        "version": 3
      },
      "file_extension": ".py",
      "mimetype": "text/x-python",
      "name": "python",
      "nbconvert_exporter": "python",
      "pygments_lexer": "ipython3",
      "version": "3.8.2"
    },
    "toc": {
      "base_numbering": 1,
      "nav_menu": {},
      "number_sections": true,
      "sideBar": true,
      "skip_h1_title": false,
      "title_cell": "Table of Contents",
      "title_sidebar": "Contents",
      "toc_cell": false,
      "toc_position": {},
      "toc_section_display": true,
      "toc_window_display": false
    },
    "colab": {
      "provenance": [],
      "include_colab_link": true
    }
  },
  "cells": [
    {
      "cell_type": "markdown",
      "metadata": {
        "id": "view-in-github",
        "colab_type": "text"
      },
      "source": [
        "<a href=\"https://colab.research.google.com/github/Iyad-Alhasan/FHE_Expirements/blob/main/encrypt_rotate_example_CKKS_Iyad.ipynb\" target=\"_parent\"><img src=\"https://colab.research.google.com/assets/colab-badge.svg\" alt=\"Open In Colab\"/></a>"
      ]
    },
    {
      "cell_type": "code",
      "metadata": {
        "ExecuteTime": {
          "end_time": "2020-05-23T17:09:55.414687Z",
          "start_time": "2020-05-23T17:09:55.402321Z"
        },
        "id": "OFlVS3dW1HyJ"
      },
      "source": [
        "import numpy as np\n",
        "from numpy.polynomial import Polynomial\n",
        "\n",
        "class CKKSEncoder:\n",
        "    \"\"\"Basic CKKS encoder to encode complex vectors into polynomials.\"\"\"\n",
        "\n",
        "    def __init__(self, M: int):\n",
        "        \"\"\"Initialization of the encoder for M a power of 2.\n",
        "\n",
        "        xi, which is an M-th root of unity will, be used as a basis for our computations.\n",
        "        \"\"\"\n",
        "        self.xi = np.exp(2 * np.pi * 1j / M)\n",
        "        self.M = M\n",
        "\n",
        "    @staticmethod\n",
        "    def vandermonde(xi: np.complex128, M: int) -> np.array:\n",
        "        \"\"\"Computes the Vandermonde matrix from a m-th root of unity.\"\"\"\n",
        "\n",
        "        N = M //2\n",
        "        matrix = []\n",
        "        # We will generate each row of the matrix\n",
        "        for i in range(N):\n",
        "            # For each row we select a different root\n",
        "            root = xi ** (2 * i + 1)\n",
        "            row = []\n",
        "\n",
        "            # Then we store its powers\n",
        "            for j in range(N):\n",
        "                row.append(root ** j)\n",
        "            matrix.append(row)\n",
        "        return matrix\n",
        "\n",
        "    def sigma_inverse(self, b: np.array) -> Polynomial:\n",
        "        \"\"\"Encodes the vector b in a polynomial using an M-th root of unity.\"\"\"\n",
        "\n",
        "        # First we create the Vandermonde matrix\n",
        "        A = CKKSEncoder.vandermonde(self.xi, M)\n",
        "\n",
        "        # Then we solve the system\n",
        "        coeffs = np.linalg.solve(A, b)\n",
        "\n",
        "        # Finally we output the polynomial\n",
        "        p = Polynomial(coeffs)\n",
        "        return p\n",
        "\n",
        "    def sigma(self, p: Polynomial) -> np.array:\n",
        "        \"\"\"Decodes a polynomial by applying it to the M-th roots of unity.\"\"\"\n",
        "\n",
        "        outputs = []\n",
        "        N = self.M //2\n",
        "\n",
        "        # We simply apply the polynomial on the roots\n",
        "        for i in range(N):\n",
        "            root = self.xi ** (2 * i + 1)\n",
        "            output = p(root)\n",
        "            outputs.append(output)\n",
        "        return np.array(outputs)"
      ],
      "execution_count": null,
      "outputs": []
    },
    {
      "cell_type": "code",
      "metadata": {
        "ExecuteTime": {
          "end_time": "2020-05-23T17:09:55.999586Z",
          "start_time": "2020-05-23T17:09:55.617615Z"
        },
        "id": "TRc8rTW81H09",
        "colab": {
          "base_uri": "https://localhost:8080/"
        },
        "outputId": "08d6dc2c-acf0-4c31-bfec-afcec6beb40c"
      },
      "source": [
        "!pip3 install fastcore\n",
        "\n",
        "from fastcore.foundation import patch_to"
      ],
      "execution_count": null,
      "outputs": [
        {
          "output_type": "stream",
          "name": "stdout",
          "text": [
            "Requirement already satisfied: fastcore in /usr/local/lib/python3.11/dist-packages (1.7.28)\n",
            "Requirement already satisfied: packaging in /usr/local/lib/python3.11/dist-packages (from fastcore) (24.2)\n"
          ]
        }
      ]
    },
    {
      "cell_type": "code",
      "metadata": {
        "ExecuteTime": {
          "end_time": "2020-05-23T17:09:56.009762Z",
          "start_time": "2020-05-23T17:09:56.001929Z"
        },
        "id": "VZL9Y--G1H1B"
      },
      "source": [
        "@patch_to(CKKSEncoder)\n",
        "def pi(self, z: np.array) -> np.array:\n",
        "    \"\"\"Projects a vector of H into C^{N/2}.\"\"\"\n",
        "\n",
        "    N = self.M // 4\n",
        "    return z[:N]\n",
        "\n",
        "@patch_to(CKKSEncoder)\n",
        "def pi_inverse(self, z: np.array) -> np.array:\n",
        "    \"\"\"Expands a vector of C^{N/2} by expanding it with its\n",
        "    complex conjugate.\"\"\"\n",
        "\n",
        "    z_conjugate = z[::-1]\n",
        "    z_conjugate = [np.conjugate(x) for x in z_conjugate]\n",
        "    return np.concatenate([z, z_conjugate])\n",
        "\n",
        "M = 8\n",
        "\n",
        "# We can now initialize our encoder with the added methods\n",
        "encoder = CKKSEncoder(M)"
      ],
      "execution_count": null,
      "outputs": []
    },
    {
      "cell_type": "code",
      "metadata": {
        "ExecuteTime": {
          "end_time": "2020-05-23T17:09:56.055281Z",
          "start_time": "2020-05-23T17:09:56.046534Z"
        },
        "id": "F1xpz_Tt1H1R"
      },
      "source": [
        "@patch_to(CKKSEncoder)\n",
        "def create_sigma_R_basis(self):\n",
        "    \"\"\"Creates the basis (sigma(1), sigma(X), ..., sigma(X** N-1)).\"\"\"\n",
        "\n",
        "    self.sigma_R_basis = np.array(self.vandermonde(self.xi, self.M)).T\n",
        "\n",
        "@patch_to(CKKSEncoder)\n",
        "def __init__(self, M):\n",
        "    \"\"\"Initialize with the basis\"\"\"\n",
        "    self.xi = np.exp(2 * np.pi * 1j / M)\n",
        "    self.M = M\n",
        "    self.create_sigma_R_basis()\n",
        "\n",
        "encoder = CKKSEncoder(M)"
      ],
      "execution_count": null,
      "outputs": []
    },
    {
      "cell_type": "code",
      "metadata": {
        "ExecuteTime": {
          "end_time": "2020-05-23T17:09:56.122465Z",
          "start_time": "2020-05-23T17:09:56.111492Z"
        },
        "id": "6WuVzyb71H1y"
      },
      "source": [
        "@patch_to(CKKSEncoder)\n",
        "def compute_basis_coordinates(self, z):\n",
        "    \"\"\"Computes the coordinates of a vector with respect to the orthogonal lattice basis.\"\"\"\n",
        "    output = np.array([np.real(np.vdot(z, b) / np.vdot(b,b)) for b in self.sigma_R_basis])\n",
        "    return output\n",
        "\n",
        "def round_coordinates(coordinates):\n",
        "    \"\"\"Gives the integral rest.\"\"\"\n",
        "    coordinates = coordinates - np.floor(coordinates)\n",
        "    return coordinates\n",
        "\n",
        "def coordinate_wise_random_rounding(coordinates):\n",
        "    \"\"\"Rounds coordinates randonmly.\"\"\"\n",
        "    r = round_coordinates(coordinates)\n",
        "    f = np.array([np.random.choice([c, c-1], 1, p=[1-c, c]) for c in r]).reshape(-1)\n",
        "\n",
        "    rounded_coordinates = coordinates - f\n",
        "    rounded_coordinates = [int(coeff) for coeff in rounded_coordinates]\n",
        "    return rounded_coordinates\n",
        "\n",
        "@patch_to(CKKSEncoder)\n",
        "def sigma_R_discretization(self, z):\n",
        "    \"\"\"Projects a vector on the lattice using coordinate wise random rounding.\"\"\"\n",
        "    coordinates = self.compute_basis_coordinates(z)\n",
        "\n",
        "    rounded_coordinates = coordinate_wise_random_rounding(coordinates)\n",
        "    y = np.matmul(self.sigma_R_basis.T, rounded_coordinates)\n",
        "    return y\n",
        "\n",
        "encoder = CKKSEncoder(M)"
      ],
      "execution_count": null,
      "outputs": []
    },
    {
      "cell_type": "code",
      "metadata": {
        "ExecuteTime": {
          "end_time": "2020-05-23T17:09:56.137266Z",
          "start_time": "2020-05-23T17:09:56.127876Z"
        },
        "id": "qsDuOVro1H15"
      },
      "source": [
        "@patch_to(CKKSEncoder)\n",
        "def __init__(self, M:int, scale:float):\n",
        "    \"\"\"Initializes with scale.\"\"\"\n",
        "    self.xi = np.exp(2 * np.pi * 1j / M)\n",
        "    self.M = M\n",
        "    self.create_sigma_R_basis()\n",
        "    self.scale = scale\n",
        "\n",
        "@patch_to(CKKSEncoder)\n",
        "def encode(self, z: np.array) -> Polynomial:\n",
        "    \"\"\"Encodes a vector by expanding it first to H,\n",
        "    scale it, project it on the lattice of sigma(R), and performs\n",
        "    sigma inverse.\n",
        "    \"\"\"\n",
        "    pi_z = self.pi_inverse(z)\n",
        "    scaled_pi_z = self.scale * pi_z\n",
        "    rounded_scale_pi_zi = self.sigma_R_discretization(scaled_pi_z)\n",
        "    p = self.sigma_inverse(rounded_scale_pi_zi)\n",
        "\n",
        "    # We round it afterwards due to numerical imprecision\n",
        "    coef = np.round(np.real(p.coef)).astype(int)\n",
        "    p = Polynomial(coef)\n",
        "    return p\n",
        "\n",
        "@patch_to(CKKSEncoder)\n",
        "def decode(self, p: Polynomial) -> np.array:\n",
        "    \"\"\"Decodes a polynomial by removing the scale,\n",
        "    evaluating on the roots, and project it on C^(N/2)\"\"\"\n",
        "    rescaled_p = p / self.scale\n",
        "    z = self.sigma(rescaled_p)\n",
        "    pi_z = self.pi(z)\n",
        "    return pi_z\n",
        "\n",
        "scale = 64\n",
        "\n",
        "encoder = CKKSEncoder(M, scale)"
      ],
      "execution_count": null,
      "outputs": []
    },
    {
      "cell_type": "markdown",
      "metadata": {
        "id": "LXKkjPgU1H2B"
      },
      "source": [
        "We can now see it on action, the full encoder used by CKKS :"
      ]
    },
    {
      "cell_type": "code",
      "metadata": {
        "ExecuteTime": {
          "end_time": "2020-05-23T17:09:56.154616Z",
          "start_time": "2020-05-23T17:09:56.142612Z"
        },
        "id": "KPVKJ8FC1H2D",
        "colab": {
          "base_uri": "https://localhost:8080/"
        },
        "outputId": "f39185b8-1137-4f5d-da8f-dc930283f927"
      },
      "source": [
        "z = np.array([3 +4j, 2 - 1j])\n",
        "z"
      ],
      "execution_count": null,
      "outputs": [
        {
          "output_type": "execute_result",
          "data": {
            "text/plain": [
              "array([3.+4.j, 2.-1.j])"
            ]
          },
          "metadata": {},
          "execution_count": 7
        }
      ]
    },
    {
      "cell_type": "code",
      "source": [
        "z = np.array([3, 2 ])"
      ],
      "metadata": {
        "id": "unKMN-pJhY-5"
      },
      "execution_count": null,
      "outputs": []
    },
    {
      "cell_type": "code",
      "metadata": {
        "ExecuteTime": {
          "end_time": "2020-05-23T17:09:56.174750Z",
          "start_time": "2020-05-23T17:09:56.158397Z"
        },
        "id": "gUuMlEG31H2H",
        "colab": {
          "base_uri": "https://localhost:8080/",
          "height": 39
        },
        "outputId": "58483bfb-2f7e-4398-c926-f44df6da2529"
      },
      "source": [
        "p = encoder.encode(z)\n",
        "p"
      ],
      "execution_count": null,
      "outputs": [
        {
          "output_type": "execute_result",
          "data": {
            "text/plain": [
              "Polynomial([160.,  22.,   0., -22.], domain=[-1,  1], window=[-1,  1], symbol='x')"
            ],
            "text/latex": "$x \\mapsto \\text{160.0} + \\text{22.0}\\,x\\color{LightGray}{ + \\text{0.0}\\,x^{2}} - \\text{22.0}\\,x^{3}$"
          },
          "metadata": {},
          "execution_count": 9
        }
      ]
    },
    {
      "cell_type": "code",
      "source": [
        "\n",
        "#Public & Secret Key generation\n",
        "\n",
        "A = [4,1,11,10] #value based on M=8 (N=4)\n",
        "s = [6,9,11,11] #value based on M=8 (N=4)\n",
        "e =[0,-1,1,1] #value based on M=8 (N=4)\n",
        "\n",
        "n=len(A)\n",
        "q=8192\n",
        "\n",
        "print (A,s,e)\n",
        "\n",
        "xN_1 = [1] + [0] * (n-1) + [1] #value based on M=8 (N=4) so : X^4+1\n",
        "\n",
        "print (xN_1)\n",
        "A = np.floor(np.polydiv(A,xN_1)[1])\n",
        "\n",
        "#constructing b (the public key)\n",
        "b = np.polymul(-A,s)\n",
        "b = np.floor(np.polydiv(b,xN_1)[1])\n",
        "b= np.polyadd(b,e)\n",
        "\n",
        "b = np.floor(np.polydiv(b,xN_1)[1]) #taking the remainder of division by cyclotomic polynomial x^4+1\n",
        "\n",
        "print (\"Print output\\n\",b)\n"
      ],
      "metadata": {
        "colab": {
          "base_uri": "https://localhost:8080/"
        },
        "id": "XEu-YdtRJPVf",
        "outputId": "04641dc1-96f1-40df-baab-1306936fb731"
      },
      "execution_count": null,
      "outputs": [
        {
          "output_type": "stream",
          "name": "stdout",
          "text": [
            "[4, 1, 11, 10] [6, 9, 11, 11] [0, -1, 1, 1]\n",
            "[1, 0, 0, 0, 1]\n",
            "Print output\n",
            " [-214. -199. -188.   10.]\n"
          ]
        }
      ]
    },
    {
      "cell_type": "code",
      "source": [
        "#Encryption\n",
        "\n",
        "c0 = np.polyadd(p.coef, b)\n",
        "\n",
        "c0 = np.polydiv(c0,xN_1)[1] #taking the remainder of division by cyclotomic polynomial x^4+1\n",
        "c1=A\n",
        "print(f\"ciphertext polynomials = \\nc0: {Polynomial(c0)}\\nc1: {Polynomial(c1)}\")\n"
      ],
      "metadata": {
        "colab": {
          "base_uri": "https://localhost:8080/"
        },
        "id": "kAqFC2FnO3xE",
        "outputId": "c43d7f4d-4e60-4264-9ac2-2bbc6d282f66"
      },
      "execution_count": null,
      "outputs": [
        {
          "output_type": "stream",
          "name": "stdout",
          "text": [
            "ciphertext polynomials = \n",
            "c0: -54.0 - 177.0·x - 188.0·x² - 12.0·x³\n",
            "c1: 4.0 + 1.0·x + 11.0·x² + 10.0·x³\n"
          ]
        }
      ]
    },
    {
      "cell_type": "code",
      "source": [
        "#Decryption\n",
        "\n",
        "messagepoly= np.polyadd(c0, np.polydiv(np.polymul(c1,s),xN_1)[1])\n",
        "print (f\"Plaintext polynomial:\\n{Polynomial(messagepoly)}\")\n",
        "message = encoder.decode(Polynomial(messagepoly))\n",
        "print (f\"message: {message}\")\n"
      ],
      "metadata": {
        "colab": {
          "base_uri": "https://localhost:8080/"
        },
        "id": "MtZ5WNf4jnUO",
        "outputId": "84bb758f-e10b-4cca-b730-06c3e9832793"
      },
      "execution_count": null,
      "outputs": [
        {
          "output_type": "stream",
          "name": "stdout",
          "text": [
            "Plaintext polynomial:\n",
            "160.0 + 21.0·x + 1.0·x² - 21.0·x³\n",
            "message: [2.96403883+0.015625j 2.03596117-0.015625j]\n"
          ]
        }
      ]
    },
    {
      "cell_type": "code",
      "source": [
        "#Rotate\n",
        "\n",
        "number_Rot = 1\n",
        "Galois_key = (5 ** number_Rot) %M\n",
        "highest_index = np.size(c0)-1\n",
        "print(Galois_key)\n",
        "print(highest_index)\n",
        "\n",
        "c0_rotated = np.zeros(highest_index*Galois_key+1)\n",
        "c1_rotated = np.zeros(highest_index*Galois_key+1)\n",
        "skey_rotated = np.zeros(highest_index*Galois_key+1)\n",
        "i=0\n",
        "while i<= highest_index:\n",
        "  c0_rotated[(i*Galois_key)] = c0[i]\n",
        "  c1_rotated[(i*Galois_key)] = c1[i]\n",
        "  skey_rotated[(i*Galois_key)] = s[i]\n",
        "  i=i+1\n",
        "\n",
        "\n",
        "c0_r = np.polydiv(c0_rotated,xN_1)[1]\n",
        "c1_r =  np.polydiv(c1_rotated,xN_1)[1]\n",
        "sA_r =  np.polydiv(skey_rotated,xN_1)[1]\n",
        "#print(skey_rotated,sA_r)\n",
        "print(s, sA_r)\n",
        "print(c0, c0_r)\n",
        "print(c1,c1_r)\n",
        "\n",
        "\n"
      ],
      "metadata": {
        "colab": {
          "base_uri": "https://localhost:8080/"
        },
        "id": "r9AxfYHQQ1fh",
        "outputId": "834b5da3-7ad6-45a1-c469-89abb2088015"
      },
      "execution_count": null,
      "outputs": [
        {
          "output_type": "stream",
          "name": "stdout",
          "text": [
            "5\n",
            "3\n",
            "[6, 9, 11, 11] [ -6.   9. -11.  11.]\n",
            "[ -54. -177. -188.  -12.] [  54. -177.  188.  -12.]\n",
            "[ 4.  1. 11. 10.] [ -4.   1. -11.  10.]\n"
          ]
        }
      ]
    },
    {
      "cell_type": "code",
      "source": [
        "\n",
        "#Decryption after trying to rotate\n",
        "\n",
        "messagepoly= np.polyadd(c0_r, np.polydiv(np.polymul(c1_r,sA_r),xN_1)[1])\n",
        "print (messagepoly)\n",
        "\n",
        "message = encoder.decode(Polynomial(messagepoly))\n",
        "print (message)\n",
        "\n"
      ],
      "metadata": {
        "colab": {
          "base_uri": "https://localhost:8080/"
        },
        "id": "g_jIvnUuLQ_C",
        "outputId": "a42d4c2a-5817-407a-a278-06622c84bacf"
      },
      "execution_count": null,
      "outputs": [
        {
          "output_type": "stream",
          "name": "stdout",
          "text": [
            "[-160.   21.   -1.  -21.]\n",
            "[-2.03596117-0.015625j -2.96403883+0.015625j]\n"
          ]
        }
      ]
    },
    {
      "cell_type": "markdown",
      "source": [
        "#real part of the result is having sign is inverted meaning that we are using the incorrect roots to evaluate (we are using the mirrored root along imaginary access). I believe this has to do with a misalignment between the encoding method and rotation method (choice of generator). (I believe root 1 is used in place of 3 and 7 in place of 5)\n",
        "![roots.png](data:image/png;base64,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)"
      ],
      "metadata": {
        "id": "4RRJVZxDG1Ft"
      }
    }
  ]
}